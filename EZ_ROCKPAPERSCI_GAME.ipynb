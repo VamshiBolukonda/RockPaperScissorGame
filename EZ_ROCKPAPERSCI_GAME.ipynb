{
  "nbformat": 4,
  "nbformat_minor": 0,
  "metadata": {
    "colab": {
      "provenance": []
    },
    "kernelspec": {
      "name": "python3",
      "display_name": "Python 3"
    },
    "language_info": {
      "name": "python"
    }
  },
  "cells": [
    {
      "cell_type": "code",
      "execution_count": null,
      "metadata": {
        "colab": {
          "base_uri": "https://localhost:8080/"
        },
        "id": "mUw1o3KDu8pV",
        "outputId": "f1c223ca-784f-4c2d-bea7-aca5ac1c5e89"
      },
      "outputs": [
        {
          "output_type": "stream",
          "name": "stdout",
          "text": [
            "2\n"
          ]
        }
      ],
      "source": [
        "import random\n",
        "print(random.randint(1,10))"
      ]
    },
    {
      "cell_type": "markdown",
      "source": [
        "**randint() function**"
      ],
      "metadata": {
        "id": "qPDq-kSSxYFK"
      }
    },
    {
      "cell_type": "code",
      "source": [
        "#(start, end) : Both of them must be integer type values.\n",
        "#A random integer in range [start, end] including the end points."
      ],
      "metadata": {
        "id": "XDFBKNsUxUzz"
      },
      "execution_count": null,
      "outputs": []
    },
    {
      "cell_type": "code",
      "source": [
        "arr=['rock','paper','scissor']\n",
        "arr[2]"
      ],
      "metadata": {
        "colab": {
          "base_uri": "https://localhost:8080/",
          "height": 35
        },
        "id": "kWFpJ8WqvdXZ",
        "outputId": "40f85109-cce5-42ec-b7b4-6ec05378cee0"
      },
      "execution_count": null,
      "outputs": [
        {
          "output_type": "execute_result",
          "data": {
            "text/plain": [
              "'scissor'"
            ],
            "application/vnd.google.colaboratory.intrinsic+json": {
              "type": "string"
            }
          },
          "metadata": {},
          "execution_count": 3
        }
      ]
    },
    {
      "cell_type": "code",
      "source": [
        "P=0\n",
        "C=0\n",
        "max=5\n",
        "arr=['rock','paper','scissor']\n",
        "while(True):\n",
        "  i=input(\"Enter Your Decision:\")\n",
        "  if i not in arr:\n",
        "    print(\"!Invalid Input!\\n!TRYAGAIN.....!\")\n",
        "  else:\n",
        "    print(\"!PROCEED!\")\n",
        "  comp=arr[random.randint(0,2)]\n",
        "  print(\"COMPUTER'S DECISION ->\",comp)\n",
        "  print(\"PLAYER'S DECISION ->\",i)\n",
        "  if(comp==i):\n",
        "    print(\"!DRAWWWW!\\nPLAYAGAIN.....!\")\n",
        "  else:\n",
        "      if(comp=='rock' and i=='scissor'):\n",
        "        print(\"COMPUTER WINS\")\n",
        "        C=C+1\n",
        "      elif(comp=='paper' and i=='rock'):\n",
        "        print(\"COMPUTER WINS\")\n",
        "        C=C+1\n",
        "      elif(comp=='scissor' and i=='paper'):\n",
        "        print(\"COMPUTER WINS\")\n",
        "        C=C+1\n",
        "      else:\n",
        "        print(\"PLAYER WINS\")\n",
        "        P=P+1\n",
        "      print(\"Player's Points: \",P)\n",
        "      print(\"Computer's Points: \",C)\n",
        "  if(P>=max):\n",
        "    print(\"!PLAYER WINS!\")\n",
        "    break\n",
        "  if(C>=max):\n",
        "    print(\"!COMPUTER WINS!\")\n",
        "    break"
      ],
      "metadata": {
        "colab": {
          "base_uri": "https://localhost:8080/"
        },
        "id": "fauJXExYvWqc",
        "outputId": "fbfa9f93-a836-4eef-efbc-fe183abd3fc5"
      },
      "execution_count": null,
      "outputs": [
        {
          "output_type": "stream",
          "name": "stdout",
          "text": [
            "Enter Your Decision:rock\n",
            "!PROCEED!\n",
            "COMPUTER'S DECISION -> rock\n",
            "PLAYER'S DECISION -> rock\n",
            "!DRAWWWW!\n",
            "PLAYAGAIN.....!\n",
            "Enter Your Decision:rock\n",
            "!PROCEED!\n",
            "COMPUTER'S DECISION -> scissor\n",
            "PLAYER'S DECISION -> rock\n",
            "PLAYER WINS\n",
            "Player's Points:  1\n",
            "Computer's Points:  0\n",
            "Enter Your Decision:rock\n",
            "!PROCEED!\n",
            "COMPUTER'S DECISION -> rock\n",
            "PLAYER'S DECISION -> rock\n",
            "!DRAWWWW!\n",
            "PLAYAGAIN.....!\n",
            "Enter Your Decision:rock\n",
            "!PROCEED!\n",
            "COMPUTER'S DECISION -> paper\n",
            "PLAYER'S DECISION -> rock\n",
            "COMPUTER WINS\n",
            "Player's Points:  1\n",
            "Computer's Points:  1\n",
            "Enter Your Decision:rock\n",
            "!PROCEED!\n",
            "COMPUTER'S DECISION -> paper\n",
            "PLAYER'S DECISION -> rock\n",
            "COMPUTER WINS\n",
            "Player's Points:  1\n",
            "Computer's Points:  2\n",
            "Enter Your Decision:rock\n",
            "!PROCEED!\n",
            "COMPUTER'S DECISION -> scissor\n",
            "PLAYER'S DECISION -> rock\n",
            "PLAYER WINS\n",
            "Player's Points:  2\n",
            "Computer's Points:  2\n",
            "Enter Your Decision:rock\n",
            "!PROCEED!\n",
            "COMPUTER'S DECISION -> scissor\n",
            "PLAYER'S DECISION -> rock\n",
            "PLAYER WINS\n",
            "Player's Points:  3\n",
            "Computer's Points:  2\n",
            "Enter Your Decision:rock\n",
            "!PROCEED!\n",
            "COMPUTER'S DECISION -> paper\n",
            "PLAYER'S DECISION -> rock\n",
            "COMPUTER WINS\n",
            "Player's Points:  3\n",
            "Computer's Points:  3\n",
            "Enter Your Decision:rock\n",
            "!PROCEED!\n",
            "COMPUTER'S DECISION -> scissor\n",
            "PLAYER'S DECISION -> rock\n",
            "PLAYER WINS\n",
            "Player's Points:  4\n",
            "Computer's Points:  3\n",
            "Enter Your Decision:rock\n",
            "!PROCEED!\n",
            "COMPUTER'S DECISION -> rock\n",
            "PLAYER'S DECISION -> rock\n",
            "!DRAWWWW!\n",
            "PLAYAGAIN.....!\n",
            "Enter Your Decision:rock\n",
            "!PROCEED!\n",
            "COMPUTER'S DECISION -> scissor\n",
            "PLAYER'S DECISION -> rock\n",
            "PLAYER WINS\n",
            "Player's Points:  5\n",
            "Computer's Points:  3\n",
            "!PLAYER WINS!\n"
          ]
        }
      ]
    }
  ]
}